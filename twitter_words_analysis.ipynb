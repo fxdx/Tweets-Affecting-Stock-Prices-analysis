{
 "cells": [
  {
   "cell_type": "markdown",
   "source": [
    "# How Elon Musk's tweets affect stock prices?\n"
   ],
   "metadata": {
    "collapsed": false,
    "pycharm": {
     "name": "#%% md\n"
    }
   }
  },
  {
   "cell_type": "markdown",
   "source": [
    "# Application setup\n",
    "\n",
    "First of all, let's setup authentication to Twitter API.\n"
   ],
   "metadata": {
    "collapsed": false,
    "pycharm": {
     "name": "#%% md\n"
    }
   }
  },
  {
   "cell_type": "code",
   "execution_count": 408,
   "outputs": [
    {
     "name": "stdout",
     "output_type": "stream",
     "text": [
      "Authentication OK\n"
     ]
    }
   ],
   "source": [
    "import numpy\n",
    "import tweepy\n",
    "import pandas\n",
    "import SECRETS\n",
    "import re\n",
    "import matplotlib.pyplot as plt\n",
    "\n",
    "# Authenticate to Twitter\n",
    "auth = tweepy.OAuthHandler(SECRETS.API_KEY, SECRETS.API_SECRET_KEY)\n",
    "auth.set_access_token(SECRETS.ACCESS_TOKEN, SECRETS.ACCESS_SECRET_TOKEN)\n",
    "\n",
    "api = tweepy.API(auth)\n",
    "\n",
    "try:\n",
    "    api.verify_credentials()\n",
    "    print('Authentication OK')\n",
    "except:\n",
    "    print('Error during authentication')\n"
   ],
   "metadata": {
    "collapsed": false,
    "pycharm": {
     "name": "#%%\n"
    }
   }
  },
  {
   "cell_type": "markdown",
   "source": [
    "\n",
    "Everything seems fine, we can proceed to download data.\n",
    "\n",
    "5 latest tweets:\n"
   ],
   "metadata": {
    "collapsed": false
   }
  },
  {
   "cell_type": "code",
   "execution_count": 409,
   "outputs": [
    {
     "name": "stdout",
     "output_type": "stream",
     "text": [
      "------------\n",
      "ID: 1395554979851554817\n",
      "2021-05-21 01:40:10\n",
      "@teslaownersSV This will actually be able to fly very briefly. I always laughed at flying cars &amp; now making one. Fate 🖤 irony haha.\n",
      "------------\n",
      "ID: 1395553735510663169\n",
      "2021-05-21 01:35:13\n",
      "@AstroJordy @Tesla We can’t wait to build this crazy truck! It’s a total rethink of vehicle mechanical architecture &amp; production methods, so super hard project, but worthwhile in the end.\n",
      "------------\n",
      "ID: 1395552911430619144\n",
      "2021-05-21 01:31:56\n",
      "@BTCsessions @TeslaGong @wintonARK Achieving truly decentralized finance – power to the people – is a noble &amp; important goal. \n",
      "\n",
      "Layer count depends on projected bandwidth &amp; compute, both rising rapidly, which means single layer network can carry all human transactions in future imo.\n",
      "\n",
      "For now, Lightning is needed.\n",
      "------------\n",
      "ID: 1395474971485376518\n",
      "2021-05-20 20:22:14\n",
      "@TeslaGong @wintonARK Ideally 0.1kWh, calculated as total energy used by system divided by max transaction rate\n",
      "------------\n",
      "ID: 1395474465794838528\n",
      "2021-05-20 20:20:13\n",
      "@BLKMDL3 @TeslaGong @wintonARK Yes, with the SpaceX rocket thruster option package. It will be safe, but very intense. Probably not wise for those with a medical condition – same as a hardcore roller coaster.\n"
     ]
    }
   ],
   "source": [
    "\n",
    "musk_tweets = api.user_timeline(screen_name='elonmusk',\n",
    "                                count=5,\n",
    "                                tweet_mode='extended'\n",
    "                                )\n",
    "\n",
    "for tweet in musk_tweets:\n",
    "     print('------------')\n",
    "     print(\"ID: {}\".format(tweet.id))\n",
    "     print(tweet.created_at)\n",
    "     print(tweet.full_text)\n"
   ],
   "metadata": {
    "collapsed": false,
    "pycharm": {
     "name": "#%%\n"
    }
   }
  },
  {
   "cell_type": "markdown",
   "source": [
    "\n",
    "# Downloading tweets\n",
    "\n",
    "We will download at least 5000 tweets to have reasonable data set.\n",
    "It is worth mentioning here that the maximum allowed .user_timeline(count=) is 200.\n"
   ],
   "metadata": {
    "collapsed": false,
    "pycharm": {
     "name": "#%% md\n"
    }
   }
  },
  {
   "cell_type": "code",
   "execution_count": 410,
   "outputs": [
    {
     "name": "stdout",
     "output_type": "stream",
     "text": [
      "N of tweets downloaded till now 370\n",
      "N of tweets downloaded till now 370\n",
      "N of tweets downloaded till now 370\n",
      "N of tweets downloaded till now 370\n",
      "N of tweets downloaded till now 370\n",
      "N of tweets downloaded till now 750\n",
      "N of tweets downloaded till now 1140\n",
      "N of tweets downloaded till now 1140\n",
      "N of tweets downloaded till now 1140\n",
      "N of tweets downloaded till now 1140\n",
      "N of tweets downloaded till now 1518\n",
      "N of tweets downloaded till now 1518\n",
      "N of tweets downloaded till now 1518\n",
      "N of tweets downloaded till now 1518\n",
      "N of tweets downloaded till now 1518\n",
      "N of tweets downloaded till now 1896\n",
      "N of tweets downloaded till now 1896\n",
      "N of tweets downloaded till now 1896\n",
      "N of tweets downloaded till now 1896\n",
      "N of tweets downloaded till now 1896\n",
      "N of tweets downloaded till now 1896\n",
      "N of tweets downloaded till now 1896\n",
      "N of tweets downloaded till now 1896\n",
      "N of tweets downloaded till now 1896\n",
      "N of tweets downloaded till now 1896\n",
      "N of tweets downloaded till now 1896\n",
      "N of tweets downloaded till now 1896\n",
      "N of tweets downloaded till now 1896\n",
      "N of tweets downloaded till now 1896\n",
      "N of tweets downloaded till now 2288\n",
      "N of tweets downloaded till now 2288\n",
      "N of tweets downloaded till now 2650\n",
      "N of tweets downloaded till now 2650\n",
      "N of tweets downloaded till now 2650\n",
      "N of tweets downloaded till now 2650\n",
      "N of tweets downloaded till now 2650\n",
      "N of tweets downloaded till now 3000\n",
      "N of tweets downloaded till now 3000\n",
      "N of tweets downloaded till now 3000\n",
      "N of tweets downloaded till now 3000\n",
      "N of tweets downloaded till now 3000\n",
      "N of tweets downloaded till now 3000\n",
      "N of tweets downloaded till now 3000\n",
      "N of tweets downloaded till now 3386\n",
      "N of tweets downloaded till now 3386\n",
      "N of tweets downloaded till now 3386\n",
      "N of tweets downloaded till now 3386\n",
      "N of tweets downloaded till now 3386\n",
      "N of tweets downloaded till now 3766\n",
      "N of tweets downloaded till now 4142\n",
      "N of tweets downloaded till now 4522\n",
      "N of tweets downloaded till now 4522\n",
      "N of tweets downloaded till now 4878\n",
      "N of tweets downloaded till now 5260\n",
      "5260\n"
     ]
    }
   ],
   "source": [
    "\n",
    "downloaded_tweets = []\n",
    "last_id = musk_tweets[-1].id\n",
    "\n",
    "while len(downloaded_tweets)<5000:\n",
    "    musk_tweets = api.user_timeline(screen_name='elonmusk',\n",
    "                               count=200,\n",
    "                               include_rts = False,\n",
    "                               max_id = last_id - 1,\n",
    "                               tweet_mode = 'extended'\n",
    "                               )\n",
    "    downloaded_tweets.extend(musk_tweets)\n",
    "    # if len(musk_tweets) == 0:\n",
    "    #     break\n",
    "    if len(musk_tweets) != 0:\n",
    "        last_id = musk_tweets[-1].id\n",
    "        downloaded_tweets.extend(musk_tweets)\n",
    "    print('N of tweets downloaded till now {}'.format(len(downloaded_tweets)))\n",
    "\n",
    "print(len(downloaded_tweets))\n"
   ],
   "metadata": {
    "collapsed": false,
    "pycharm": {
     "name": "#%%\n"
    }
   }
  },
  {
   "cell_type": "markdown",
   "source": [
    "\n",
    "# Reviewing data\n"
   ],
   "metadata": {
    "collapsed": false
   }
  },
  {
   "cell_type": "code",
   "execution_count": 411,
   "outputs": [],
   "source": [
    "\n",
    "words_in_tweets = {}\n",
    "\n",
    "for tweet in downloaded_tweets:\n",
    "\n",
    "    # using regular expression to be exclude all \"@#!.?\"\n",
    "    t_words = re.findall(r'\\w+', tweet.full_text)\n",
    "\n",
    "    # adding words counting\n",
    "    for word in t_words:\n",
    "        if word in words_in_tweets:\n",
    "            words_in_tweets[word] += 1\n",
    "        else:\n",
    "            words_in_tweets[word] = 1\n",
    "\n",
    "words_to_work_with = words_in_tweets.copy()\n"
   ],
   "metadata": {
    "collapsed": false,
    "pycharm": {
     "name": "#%%\n"
    }
   }
  },
  {
   "cell_type": "markdown",
   "source": [
    "\n",
    "We have dictionary {'word' : times_used}\n",
    "\n",
    "\n",
    "Let's plot some words\n"
   ],
   "metadata": {
    "collapsed": false,
    "pycharm": {
     "name": "#%% md\n"
    }
   }
  },
  {
   "cell_type": "code",
   "execution_count": 412,
   "outputs": [
    {
     "data": {
      "text/plain": "<Figure size 1200x640 with 1 Axes>",
      "image/png": "[encoded data removed]"
     },
     "metadata": {
      "needs_background": "light"
     },
     "output_type": "display_data"
    }
   ],
   "source": [
    "\n",
    "# we don't want to print all words yet, so let's have a look at 30 of them first\n",
    "df = pandas.DataFrame(words_in_tweets.items(), columns=['word', 'used'])\n",
    "df.sort_values('used',ascending=False, inplace=True)\n",
    "\n",
    "\n",
    "fig = plt.figure(figsize=(15, 8), dpi=80)\n",
    "ax = fig.add_subplot(111)\n",
    "ax.bar('word', 'used', data=df.iloc[:15], width=0.6)\n",
    "ax.set_ylabel('Used in tweets')\n",
    "ax.set_xlabel('Words')\n",
    "plt.show()\n"
   ],
   "metadata": {
    "collapsed": false,
    "pycharm": {
     "name": "#%%\n"
    }
   }
  },
  {
   "cell_type": "markdown",
   "source": [
    "\n",
    "# Improving data quality\n",
    "\n",
    " We need to improve quality of our data. Let's delete some unimportant words like \"the\" \"a\" \"is\" etc,\n",
    " then print once again\n",
    "\n",
    "- It is also a good idea to save words_in_tweets to pandas.dataFrame.\n",
    "- We need to use the field *.created_at* in every tweet we are interested in (*downloaded_tweets*).\n"
   ],
   "metadata": {
    "collapsed": false,
    "pycharm": {
     "name": "#%% md\n"
    }
   }
  },
  {
   "cell_type": "code",
   "execution_count": 413,
   "outputs": [
    {
     "data": {
      "text/plain": "<Figure size 1200x640 with 1 Axes>",
      "image/png": "[encoded data removed]"
     },
     "metadata": {
      "needs_background": "light"
     },
     "output_type": "display_data"
    }
   ],
   "source": [
    "\n",
    "unimportant_words = ['the' ,'a', 'to', 'is', 't', 'of',\n",
    "                     'be', 'will', 'that', 'this', 'https',\n",
    "                     'co', 'on', 'we', 'with', 'so', 'for',\n",
    "                     'at', 'but', 's', 'you', 'was', 'in',\n",
    "                     'it', 'I', 'or', 'year', 'as', 'are',\n",
    "                     'no', 'not', 'with', 'This', 'It', 'much',\n",
    "                     'We', 'do', 'by', 'just', 'The', 'amp'\n",
    "                     ]\n",
    "for word in unimportant_words:\n",
    "    words_to_work_with.pop(word, None)\n",
    "\n",
    "df = pandas.DataFrame(words_to_work_with.items(), columns=['word', 'used'])\n",
    "df.sort_values('used',ascending=False, inplace=True)\n",
    "\n",
    "\n",
    "fig = plt.figure(figsize=(15, 8), dpi=80)\n",
    "ax = fig.add_subplot(111)\n",
    "ax.bar('word', 'used', data=df.iloc[:15], width=0.6)\n",
    "ax.set_ylabel('Used in tweets')\n",
    "ax.set_xlabel('Words')\n",
    "plt.show()\n"
   ],
   "metadata": {
    "collapsed": false,
    "pycharm": {
     "name": "#%%\n"
    }
   }
  },
  {
   "cell_type": "code",
   "execution_count": 414,
   "outputs": [
    {
     "name": "stdout",
     "output_type": "stream",
     "text": [
      "         word  used\n",
      "0   TeslaGong    24\n",
      "1   wintonARK    24\n",
      "2     Bitcoin    36\n",
      "3     hashing     6\n",
      "4         aka    10\n",
      "5      mining    12\n",
      "6      energy    42\n",
      "7       usage    12\n",
      "8          is  1342\n",
      "9    starting     6\n",
      "10         to  1468\n",
      "11     exceed     2\n",
      "12       that   422\n",
      "13         of  1078\n",
      "14     medium     8\n",
      "(882, 3)\n"
     ]
    }
   ],
   "source": [
    "\n",
    "# saving our dictionary to DataFrame\n",
    "words_in_tweets_df = pandas.DataFrame(words_in_tweets.items(), columns=['word', 'used'])\n",
    "\n",
    "print(words_in_tweets_df.head(15))\n",
    "\n",
    "# saving downloaded_tweets into a pandas.DataFrame\n",
    "# firstly, we need to create list  which will help us putting interesting data in df\n",
    "\n",
    "temp_list_of_dicts = []\n",
    "for tweet in downloaded_tweets:\n",
    "    temp_list_of_dicts.append({'id': tweet.id,\n",
    "                               'text': tweet.full_text,\n",
    "                               'date': tweet.created_at})\n",
    "\n",
    "# FILTERING DATA\n",
    "downloaded_tweets_df = pandas.DataFrame(temp_list_of_dicts)\n",
    "downloaded_tweets_df['text'] = downloaded_tweets_df['text'].str.lower()\n",
    "\n",
    "df_tesla_word = downloaded_tweets_df[downloaded_tweets_df['text'].str.contains('tesla', na=False)]\n",
    "\n",
    "# we have tweets with words tesla or spacex\n",
    "print(df_tesla_word.shape)\n"
   ],
   "metadata": {
    "collapsed": false,
    "pycharm": {
     "name": "#%%\n"
    }
   }
  },
  {
   "cell_type": "markdown",
   "source": [
    "\n",
    "# Downloading historical data of tesla stock prices\n",
    "\n",
    "\n",
    "Let's check the oldest tweet and download stock data from this day.\n"
   ],
   "metadata": {
    "collapsed": false,
    "pycharm": {
     "name": "#%% md\n"
    }
   }
  },
  {
   "cell_type": "code",
   "execution_count": 415,
   "outputs": [],
   "source": [
    "\n",
    "# extracting date to string\n",
    "oldest_tweet_about_tesla_date = str(df_tesla_word.date.iloc[-1])\n",
    "\n",
    "oldest_tweet_about_tesla_date = oldest_tweet_about_tesla_date.split(' ')\n",
    "\n",
    "oldest_tweet_about_tesla_date = oldest_tweet_about_tesla_date[0]\n",
    "\n",
    "oldest_tweet_about_tesla_date = oldest_tweet_about_tesla_date.split('-')\n",
    "\n",
    "# YEAR MONTH DAY\n",
    "date_tesla = [int(a) for a in oldest_tweet_about_tesla_date]\n"
   ],
   "metadata": {
    "collapsed": false,
    "pycharm": {
     "name": "#%%\n"
    }
   }
  },
  {
   "cell_type": "code",
   "execution_count": 416,
   "outputs": [],
   "source": [
    "# importing important libraries\n",
    "from datetime import datetime\n",
    "import yfinance as yahoofinance"
   ],
   "metadata": {
    "collapsed": false,
    "pycharm": {
     "name": "#%%\n"
    }
   }
  },
  {
   "cell_type": "code",
   "execution_count": 417,
   "outputs": [
    {
     "name": "stdout",
     "output_type": "stream",
     "text": [
      "[*********************100%***********************]  1 of 1 completed\n"
     ]
    }
   ],
   "source": [
    "\n",
    "# downloading dataframe from Yahoo Finance\n",
    "start_date = datetime(date_tesla[0], date_tesla[1], date_tesla[2])\n",
    "end_date = datetime.now()\n",
    "tesla_stock_prices_data = yahoofinance.download('TSLA', start=start_date, end=end_date)\n"
   ],
   "metadata": {
    "collapsed": false,
    "pycharm": {
     "name": "#%%\n"
    }
   }
  },
  {
   "cell_type": "markdown",
   "source": [
    "\n",
    "# Adjusting and merging Dataframes\n"
   ],
   "metadata": {
    "collapsed": false,
    "pycharm": {
     "name": "#%% md\n"
    }
   }
  },
  {
   "cell_type": "code",
   "execution_count": 418,
   "outputs": [
    {
     "name": "stdout",
     "output_type": "stream",
     "text": [
      "         Date        High\n",
      "0  2020-07-06  275.558014\n",
      "1  2020-07-07  285.899994\n",
      "2  2020-07-08  283.451996\n",
      "3  2020-07-09  281.712006\n",
      "4  2020-07-10  309.783997\n",
      "         Date        High\n",
      "0  2020-07-06  275.558014\n",
      "1  2020-07-07  285.899994\n",
      "2  2020-07-08  283.451996\n",
      "3  2020-07-09  281.712006\n",
      "4  2020-07-10  309.783997\n"
     ]
    }
   ],
   "source": [
    "\n",
    "temp_DF = df_tesla_word.copy()\n",
    "temp_DF.reset_index(inplace=True)\n",
    "tweets_dates_list = []\n",
    "\n",
    "temp_DF = temp_DF.drop(columns=['index', 'id', 'text'])\n",
    "for row in temp_DF.date:\n",
    "    tweets_dates_list.append(str(row).split(' ')[0])\n",
    "\n",
    "# adjusting dataframe and cleaning data\n",
    "tweets_dates_DF = pandas.DataFrame(data=tweets_dates_list)\n",
    "tweets_dates_DF.drop_duplicates(inplace=True)\n",
    "tweets_dates_DF =  tweets_dates_DF[::-1]\n",
    "tweets_dates_DF.reset_index(inplace=True)\n",
    "tweets_dates_DF = tweets_dates_DF.drop(columns=['index'])\n",
    "tweets_dates_DF.columns = ['Date']\n",
    "\n",
    "prices_data = tesla_stock_prices_data.copy()\n",
    "prices_data.reset_index(inplace=True)\n",
    "# changing TimeStamp to str (because tweets_dates_DF.Date is str)\n",
    "prices_data['Date']= prices_data['Date'].astype(str)\n",
    "\n",
    "# merging data to print relevant markers in specific dates, dropping useless columns\n",
    "inner_merged = pandas.merge(tweets_dates_DF, prices_data)\n",
    "inner_merged = inner_merged.drop(columns=['Open', 'Low', 'Close',\n",
    "                                          'Adj Close', 'Volume'])\n",
    "prices_data = prices_data.drop(columns=['Open', 'Low', 'Close',\n",
    "                                          'Adj Close', 'Volume'])\n",
    "\n",
    "print(inner_merged.head())\n",
    "print(prices_data.head())\n"
   ],
   "metadata": {
    "collapsed": false,
    "pycharm": {
     "name": "#%%\n"
    }
   }
  },
  {
   "cell_type": "markdown",
   "source": [
    "\n",
    "# Plotting stock prices with tweet days markers\n"
   ],
   "metadata": {
    "collapsed": false,
    "pycharm": {
     "name": "#%% md\n"
    }
   }
  },
  {
   "cell_type": "code",
   "execution_count": 443,
   "outputs": [
    {
     "name": "stderr",
     "output_type": "stream",
     "text": [
      "<ipython-input-443-9cf13b09b4e6>:5: UserWarning: FixedFormatter should only be used together with FixedLocator\n",
      "  stock_price.set_xticklabels(prices_data.Date)\n",
      "<ipython-input-443-9cf13b09b4e6>:14: MatplotlibDeprecationWarning: Adding an axes using the same arguments as a previous axes currently reuses the earlier instance.  In a future version, a new instance will always be created and returned.  Meanwhile, this warning can be suppressed, and the future behavior ensured, by passing a unique label to each axes instance.\n",
      "  musk_twitter_act = stock_fig.add_subplot(111)\n"
     ]
    },
    {
     "data": {
      "text/plain": "<Figure size 2800x1200 with 1 Axes>",
      "image/png": "[encoded data removed]"
     },
     "metadata": {
      "needs_background": "light"
     },
     "output_type": "display_data"
    },
    {
     "data": {
      "text/plain": "<Figure size 432x288 with 0 Axes>"
     },
     "metadata": {},
     "output_type": "display_data"
    }
   ],
   "source": [
    "\n",
    "stock_fig = plt.figure(figsize=(35, 15), dpi=80)\n",
    "\n",
    "\n",
    "stock_price = stock_fig.add_subplot(111)\n",
    "stock_price.set_xticklabels(prices_data.Date)\n",
    "stock_price.xaxis_date()\n",
    "stock_price.plot(prices_data.Date,\n",
    "                 prices_data.High,\n",
    "                 color='b'\n",
    "                 )\n",
    "stock_price.set_ylabel('Daily high price')\n",
    "stock_price.set_xlabel('Date')\n",
    "\n",
    "musk_twitter_act = stock_fig.add_subplot(111)\n",
    "musk_twitter_act.xaxis_date()\n",
    "musk_twitter_act.plot(inner_merged.Date, inner_merged.High,\n",
    "                      marker=6, color='g', linestyle = 'None'\n",
    "                      )\n",
    "musk_twitter_act.set_xlabel('Tweet day')\n",
    "\n",
    "stock_fig.autofmt_xdate()\n",
    "plt.show()\n"
   ],
   "metadata": {
    "collapsed": false,
    "pycharm": {
     "name": "#%%\n"
    }
   }
  },
  {
   "cell_type": "markdown",
   "source": [
    "# First analysis\n",
    "\n",
    "At this point we can draw some conclusions, but firstly - let's think about the correlation between the tweet and the\n",
    "stock price. To explore this we can check the high price of the Tesla stock the day after the tweet.\n"
   ],
   "metadata": {
    "collapsed": false
   }
  },
  {
   "cell_type": "code",
   "execution_count": 437,
   "outputs": [
    {
     "name": "stdout",
     "output_type": "stream",
     "text": [
      "         Date        High\n",
      "0  2020-07-06  275.558014\n",
      "         Date        High\n",
      "1  2020-07-07  285.899994\n",
      "         Date        High\n",
      "2  2020-07-08  283.451996\n",
      "         Date        High\n",
      "3  2020-07-09  281.712006\n",
      "         Date        High\n",
      "4  2020-07-10  309.783997\n",
      "         Date        High\n",
      "5  2020-07-13  358.997986\n",
      "         Date   High\n",
      "6  2020-07-14  318.0\n",
      "         Date   High\n",
      "7  2020-07-15  310.0\n",
      "          Date   High\n",
      "11  2020-07-21  335.0\n",
      "          Date        High\n",
      "12  2020-07-22  325.283997\n",
      "          Date        High\n",
      "13  2020-07-23  337.799988\n",
      "          Date   High\n",
      "14  2020-07-24  293.0\n",
      "          Date        High\n",
      "15  2020-07-27  309.588013\n",
      "          Date        High\n",
      "17  2020-07-29  306.962006\n",
      "          Date       High\n",
      "18  2020-07-30  302.64801\n",
      "          Date        High\n",
      "24  2020-08-07  299.950012\n",
      "          Date   High\n",
      "26  2020-08-11  284.0\n",
      "          Date   High\n",
      "27  2020-08-12  317.0\n",
      "          Date       High\n",
      "29  2020-08-14  333.76001\n",
      "          Date        High\n",
      "30  2020-08-17  369.171997\n",
      "          Date        High\n",
      "31  2020-08-18  384.779999\n",
      "          Date        High\n",
      "32  2020-08-19  382.200012\n",
      "          Date       High\n",
      "33  2020-08-20  404.39801\n",
      "          Date        High\n",
      "35  2020-08-24  425.799988\n",
      "          Date        High\n",
      "37  2020-08-26  433.200012\n",
      "          Date        High\n",
      "38  2020-08-27  459.119995\n",
      "          Date        High\n",
      "39  2020-08-28  463.697998\n",
      "          Date       High\n",
      "41  2020-09-01  502.48999\n",
      "          Date        High\n",
      "42  2020-09-02  479.040009\n",
      "          Date        High\n",
      "43  2020-09-03  431.799988\n",
      "          Date   High\n",
      "46  2020-09-09  369.0\n",
      "          Date       High\n",
      "47  2020-09-10  398.98999\n",
      "          Date        High\n",
      "50  2020-09-15  461.940002\n",
      "          Date        High\n",
      "51  2020-09-16  457.790009\n",
      "          Date        High\n",
      "52  2020-09-17  437.790009\n",
      "          Date        High\n",
      "54  2020-09-21  455.679993\n",
      "          Date       High\n",
      "55  2020-09-22  437.76001\n",
      "          Date        High\n",
      "56  2020-09-23  412.149994\n",
      "          Date        High\n",
      "59  2020-09-28  428.079987\n",
      "          Date   High\n",
      "60  2020-09-29  428.5\n",
      "          Date        High\n",
      "62  2020-10-01  448.880005\n",
      "          Date        High\n",
      "63  2020-10-02  439.130005\n",
      "          Date        High\n",
      "64  2020-10-05  433.640015\n",
      "          Date        High\n",
      "65  2020-10-06  428.779999\n",
      "          Date        High\n",
      "66  2020-10-07  429.899994\n",
      "          Date   High\n",
      "67  2020-10-08  439.0\n",
      "          Date       High\n",
      "69  2020-10-12  448.73999\n",
      "          Date        High\n",
      "70  2020-10-13  448.890015\n",
      "          Date        High\n",
      "71  2020-10-14  465.899994\n",
      "          Date        High\n",
      "72  2020-10-15  456.570007\n",
      "          Date        High\n",
      "73  2020-10-16  455.950012\n",
      "          Date        High\n",
      "76  2020-10-21  432.950012\n",
      "          Date        High\n",
      "77  2020-10-22  445.230011\n",
      "          Date   High\n",
      "80  2020-10-27  430.5\n",
      "          Date        High\n",
      "82  2020-10-29  418.059998\n",
      "          Date        High\n",
      "85  2020-11-03  427.769989\n",
      "          Date   High\n",
      "87  2020-11-05  440.0\n",
      "          Date        High\n",
      "88  2020-11-06  436.570007\n",
      "          Date   High\n",
      "89  2020-11-09  452.5\n",
      "          Date        High\n",
      "90  2020-11-10  420.089996\n",
      "          Date        High\n",
      "93  2020-11-13  412.529999\n",
      "          Date        High\n",
      "94  2020-11-16  412.450012\n",
      "          Date   High\n",
      "95  2020-11-17  462.0\n",
      "          Date   High\n",
      "96  2020-11-18  496.0\n",
      "          Date        High\n",
      "97  2020-11-19  508.609985\n",
      "          Date   High\n",
      "98  2020-11-20  502.5\n",
      "          Date   High\n",
      "99  2020-11-23  526.0\n",
      "           Date       High\n",
      "100  2020-11-24  559.98999\n",
      "           Date   High\n",
      "101  2020-11-25  574.0\n",
      "           Date        High\n",
      "105  2020-12-02  571.539978\n",
      "           Date   High\n",
      "115  2020-12-16  632.5\n",
      "           Date        High\n",
      "116  2020-12-17  658.820007\n",
      "           Date   High\n",
      "118  2020-12-21  668.5\n",
      "           Date        High\n",
      "119  2020-12-22  649.880005\n",
      "           Date        High\n",
      "121  2020-12-24  666.090027\n",
      "           Date        High\n",
      "122  2020-12-28  681.400024\n",
      "           Date        High\n",
      "123  2020-12-29  669.900024\n",
      "           Date        High\n",
      "124  2020-12-30  696.599976\n",
      "           Date       High\n",
      "129  2021-01-07  816.98999\n",
      "           Date        High\n",
      "131  2021-01-11  854.429993\n",
      "           Date   High\n",
      "134  2021-01-14  863.0\n",
      "           Date   High\n",
      "137  2021-01-20  859.5\n",
      "           Date        High\n",
      "138  2021-01-21  855.719971\n",
      "           Date        High\n",
      "140  2021-01-25  900.400024\n",
      "           Date   High\n",
      "143  2021-01-28  848.0\n",
      "           Date        High\n",
      "144  2021-01-29  842.409973\n",
      "           Date       High\n",
      "149  2021-02-05  864.77002\n",
      "           Date        High\n",
      "151  2021-02-09  859.799988\n",
      "           Date        High\n",
      "153  2021-02-11  829.880005\n",
      "           Date   High\n",
      "155  2021-02-16  821.0\n",
      "           Date        High\n",
      "157  2021-02-18  794.690002\n",
      "           Date        High\n",
      "158  2021-02-19  796.789978\n",
      "           Date   High\n",
      "159  2021-02-22  768.5\n",
      "           Date   High\n",
      "161  2021-02-24  745.0\n",
      "           Date        High\n",
      "162  2021-02-25  737.210022\n",
      "           Date   High\n",
      "164  2021-03-01  719.0\n",
      "           Date        High\n",
      "165  2021-03-02  721.109985\n",
      "           Date        High\n",
      "166  2021-03-03  700.700012\n",
      "           Date        High\n",
      "167  2021-03-04  668.450012\n",
      "           Date        High\n",
      "168  2021-03-05  627.840027\n",
      "           Date        High\n",
      "169  2021-03-08  620.130005\n",
      "           Date   High\n",
      "172  2021-03-11  702.5\n",
      "           Date       High\n",
      "178  2021-03-19  657.22998\n",
      "           Date       High\n",
      "181  2021-03-24  668.02002\n",
      "           Date        High\n",
      "183  2021-03-26  643.820007\n",
      "           Date        High\n",
      "185  2021-03-30  637.659973\n",
      "           Date        High\n",
      "188  2021-04-05  708.159973\n",
      "           Date        High\n",
      "191  2021-04-08  689.549988\n",
      "           Date        High\n",
      "192  2021-04-09  680.969971\n",
      "           Date   High\n",
      "194  2021-04-13  763.0\n",
      "           Date        High\n",
      "195  2021-04-14  780.789978\n",
      "           Date        High\n",
      "196  2021-04-15  743.690002\n",
      "           Date        High\n",
      "198  2021-04-19  725.400024\n",
      "           Date        High\n",
      "200  2021-04-21  744.840027\n",
      "           Date       High\n",
      "201  2021-04-22  753.77002\n",
      "           Date        High\n",
      "203  2021-04-26  749.299988\n",
      "           Date   High\n",
      "204  2021-04-27  724.0\n",
      "           Date   High\n",
      "205  2021-04-28  708.5\n",
      "           Date    High\n",
      "206  2021-04-29  702.25\n",
      "           Date   High\n",
      "212  2021-05-07  690.0\n",
      "           Date        High\n",
      "214  2021-05-11  627.099976\n",
      "           Date        High\n",
      "215  2021-05-12  620.409973\n",
      "           Date        High\n",
      "217  2021-05-14  592.869995\n",
      "           Date       High\n",
      "218  2021-05-17  589.72998\n",
      "           Date        High\n",
      "220  2021-05-19  566.210022\n",
      "           Date        High\n",
      "221  2021-05-20  588.849976\n"
     ]
    }
   ],
   "source": [
    "\n",
    "# for row in inner_merged.Date:\n",
    "#     print(prices_data[prices_data['Date'] == row])\n"
   ],
   "metadata": {
    "collapsed": false,
    "pycharm": {
     "name": "#%%\n"
    }
   }
  },
  {
   "cell_type": "markdown",
   "source": [
    "\n",
    "# Summarization\n",
    "\n",
    "The graph displays the stock price of Tesla as a function of time.\n",
    "The days when Elon tweeted were marked with dots.\n",
    "There is an equal number of dots preceding an ascending, as there are a descending slope.\n",
    "Therefore, we cannot draw the conclusion that Elon's tweets influence the stock prices.\n",
    "\n"
   ],
   "metadata": {
    "collapsed": false,
    "pycharm": {
     "name": "#%% md\n"
    }
   }
  }
 ],
 "metadata": {
  "kernelspec": {
   "display_name": "Python 3",
   "language": "python",
   "name": "python3"
  },
  "language_info": {
   "codemirror_mode": {
    "name": "ipython",
    "version": 2
   },
   "file_extension": ".py",
   "mimetype": "text/x-python",
   "name": "python",
   "nbconvert_exporter": "python",
   "pygments_lexer": "ipython2",
   "version": "2.7.6"
  }
 },
 "nbformat": 4,
 "nbformat_minor": 0
}